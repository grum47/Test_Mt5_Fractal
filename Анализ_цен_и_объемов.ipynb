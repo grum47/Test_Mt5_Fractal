{
  "nbformat": 4,
  "nbformat_minor": 0,
  "metadata": {
    "colab": {
      "name": "Анализ цен и объемов.ipynb",
      "provenance": [],
      "collapsed_sections": [
        "hAG4i2uSJEf9",
        "zcG7sHruJUke",
        "anBJ72aeKUyl",
        "oYYo9jDvKry-",
        "FCRlyIUSK8Jr",
        "0o-WvoIELOsO",
        "H50Sc03FLV9L",
        "JmuTYUtiLn5L",
        "BTgcD4hLL9Fx",
        "HeZ5EgHxMSNA",
        "m8sv1pDtMXDB",
        "mm7HZhQyNJgO"
      ],
      "authorship_tag": "ABX9TyNJiRWRummOUt1aqZ2vKnIW",
      "include_colab_link": true
    },
    "kernelspec": {
      "name": "python3",
      "display_name": "Python 3"
    },
    "language_info": {
      "name": "python"
    }
  },
  "cells": [
    {
      "cell_type": "markdown",
      "metadata": {
        "id": "view-in-github",
        "colab_type": "text"
      },
      "source": [
        "<a href=\"https://colab.research.google.com/github/grum47/Test_Mt5_Fractal/blob/master/%D0%90%D0%BD%D0%B0%D0%BB%D0%B8%D0%B7_%D1%86%D0%B5%D0%BD_%D0%B8_%D0%BE%D0%B1%D1%8A%D0%B5%D0%BC%D0%BE%D0%B2.ipynb\" target=\"_parent\"><img src=\"https://colab.research.google.com/assets/colab-badge.svg\" alt=\"Open In Colab\"/></a>"
      ]
    },
    {
      "cell_type": "code",
      "execution_count": null,
      "metadata": {
        "id": "C5Gsc8dYVhXB"
      },
      "outputs": [],
      "source": [
        "# Импорт нужных библиотек\n",
        "import numpy as np \n",
        "import pandas as pd \n",
        "import matplotlib.pyplot as plt\n",
        "import seaborn as sns\n",
        "sns.set_style(\"white\")\n",
        "%matplotlib inline\n",
        "import numba as nb\n",
        "from numba import jit"
      ]
    },
    {
      "cell_type": "markdown",
      "source": [
        "\n",
        "### 1) Подгрузить датафрейм из предоставленного файла data.feather."
      ],
      "metadata": {
        "id": "hAG4i2uSJEf9"
      }
    },
    {
      "cell_type": "code",
      "source": [
        "df = pd.read_feather('C:Downloads/data.feather')"
      ],
      "metadata": {
        "id": "YetuqBcZWZoH"
      },
      "execution_count": null,
      "outputs": []
    },
    {
      "cell_type": "markdown",
      "source": [
        "### 2) Провести базовый EDA - посчитать среднее, медиану, стандартное отклонение, квартили для столбцов цен (_price_1) и объёмов (_vol_1) - отдельно для каждого столбца. Визуализировать боксплотами. Установить, были ли выбросы по ценам (например, через межквартильный размах)."
      ],
      "metadata": {
        "id": "zcG7sHruJUke"
      }
    },
    {
      "cell_type": "code",
      "source": [
        "print(df.isnull().values.any())\n",
        "df.head()"
      ],
      "metadata": {
        "id": "8NVIU_AXJl04"
      },
      "execution_count": null,
      "outputs": []
    },
    {
      "cell_type": "markdown",
      "source": [
        "###### Переименовываем поля, для удобства работы"
      ],
      "metadata": {
        "id": "anBJ72aeKUyl"
      }
    },
    {
      "cell_type": "code",
      "source": [
        "df = df.rename(columns={\n",
        "    'BTC-USD-SWAP@OKEX_bid_price_1' : 'bid_price',\n",
        "    'BTC-USD-SWAP@OKEX_ask_price_1' : 'ask_price',\n",
        "    'BTC-USD-SWAP@OKEX_bid_vol_1'   : 'bid_vol',\n",
        "    'BTC-USD-SWAP@OKEX_ask_vol_1'   : 'ask_vol'\n",
        "})\n",
        "df.info()"
      ],
      "metadata": {
        "id": "3YtboYjLJpVq"
      },
      "execution_count": null,
      "outputs": []
    },
    {
      "cell_type": "markdown",
      "source": [
        "###### Видим, что максимальное значение в столбцах bid_vol_1 и ask_vol_1 значительно превышает значения 3-го квартиля, что предполагает наличие выбросов"
      ],
      "metadata": {
        "id": "oYYo9jDvKry-"
      }
    },
    {
      "cell_type": "code",
      "source": [
        "df_des_tran = df.describe().T\n",
        "df_des_tran"
      ],
      "metadata": {
        "id": "Q0DOIm6UKlh7"
      },
      "execution_count": null,
      "outputs": []
    },
    {
      "cell_type": "markdown",
      "source": [
        "###### Строим боксплоты по Т датафрейму, для того, чтобы отрисовка была быстрее"
      ],
      "metadata": {
        "id": "FCRlyIUSK8Jr"
      }
    },
    {
      "cell_type": "code",
      "source": [
        "df_bplot = df_des_tran.drop(columns=['count', 'std', '50%']).T\n",
        "boxplot = df_bplot.boxplot(column=['bid_price', 'ask_price']) "
      ],
      "metadata": {
        "id": "FVOWnDybKn08"
      },
      "execution_count": null,
      "outputs": []
    },
    {
      "cell_type": "markdown",
      "source": [
        "###### Визуально видим выбросы"
      ],
      "metadata": {
        "id": "0o-WvoIELOsO"
      }
    },
    {
      "cell_type": "code",
      "source": [
        "boxplot = df_bplot.boxplot(column=['bid_vol', 'ask_vol']) "
      ],
      "metadata": {
        "id": "k4Q6SHhKLLtI"
      },
      "execution_count": null,
      "outputs": []
    },
    {
      "cell_type": "markdown",
      "source": [
        "###### Межквартильный размах. Видим, что есть точки превышающие значения 1го и 3го квартиля -+ 1,5 межквартильного размаха"
      ],
      "metadata": {
        "id": "H50Sc03FLV9L"
      }
    },
    {
      "cell_type": "code",
      "source": [
        "df_iqr = df_des_tran[['min', '25%', '75%', 'max', 'std']].copy()\n",
        "df_iqr['iqr'] = df_iqr['75%'] - df_iqr['25%']\n",
        "df_iqr['is_out'] = np.where((df_iqr['min'] < (df_iqr['25%'] - 1.5 * df_iqr['iqr'])) |\n",
        "                            (df_iqr['max'] > (df_iqr['75%'] + 1.5 * df_iqr['iqr'])),\n",
        "                             1,\n",
        "                             0)\n",
        "df_iqr"
      ],
      "metadata": {
        "id": "_COu3HVQLaVB"
      },
      "execution_count": null,
      "outputs": []
    },
    {
      "cell_type": "markdown",
      "source": [
        "### 3) Визуализировать распределения цен и объёмов любым способом."
      ],
      "metadata": {
        "id": "JmuTYUtiLn5L"
      }
    },
    {
      "cell_type": "code",
      "source": [
        "plt.figure(figsize=(12, 6))\n",
        "df['bid_price'].plot()\n",
        "plt.show()"
      ],
      "metadata": {
        "id": "9zj8CFS4LrJR"
      },
      "execution_count": null,
      "outputs": []
    },
    {
      "cell_type": "code",
      "source": [
        "plt.figure(figsize=(12, 6))\n",
        "df['ask_price'].plot()\n",
        "plt.show()"
      ],
      "metadata": {
        "id": "5PLBdQEBLvr9"
      },
      "execution_count": null,
      "outputs": []
    },
    {
      "cell_type": "markdown",
      "source": [
        "###### Визуально также наблюдаем выбросы по объемам"
      ],
      "metadata": {
        "id": "nkukAIaxL4yE"
      }
    },
    {
      "cell_type": "code",
      "source": [
        "plt.figure(figsize=(12, 6))\n",
        "df['bid_vol'].plot()\n",
        "plt.show()"
      ],
      "metadata": {
        "id": "RbxQIvitLxKT"
      },
      "execution_count": null,
      "outputs": []
    },
    {
      "cell_type": "code",
      "source": [
        "plt.figure(figsize=(12, 6))\n",
        "df['ask_vol'].plot()\n",
        "plt.show()"
      ],
      "metadata": {
        "id": "MjkQsdTiLzEo"
      },
      "execution_count": null,
      "outputs": []
    },
    {
      "cell_type": "markdown",
      "source": [
        "### 4) Рассчитать среднюю цену инструмента (bid_price+ask_price)/2 для всех точек и по ней рассчитать за для всех точек взвешенную по времени экспоненциальную скользящую среднюю по нижеописанному принципу. Замерить время выполнения (можно просто через %%timeit), попробовать достичь времени выполнения менее 1 с.\n",
        "##### а. Инициализируемся средней ценой для первой строки датафрейма\n",
        "##### б.Если разница по времени со следующей строчкой превышает 1 секунду, то условно считаем её равной одной секунде (параметр Δt_i в формуле ниже)\n",
        "##### в.Очередное значение EMA = прошлое значение EMA + (очередная средняя цена - прошлое значение EMA)*(разница по времени до предыдущего значения)/(10000 секунд):\n",
        "##### 𝐸𝑀𝐴𝑖=𝐸𝑀𝐴(𝑖−1)+(𝑀𝑖𝑑𝑃𝑟𝑖𝑐𝑒𝑖−𝐸𝑀𝐴(𝑖−1))(Δ𝑡𝑖)/(10000секунд)"
      ],
      "metadata": {
        "id": "BTgcD4hLL9Fx"
      }
    },
    {
      "cell_type": "code",
      "source": [
        "df_settlement = df.copy()"
      ],
      "metadata": {
        "id": "iWDrr__WL-OU"
      },
      "execution_count": null,
      "outputs": []
    },
    {
      "cell_type": "code",
      "source": [
        "%%timeit\n",
        "df_settlement['avg_price'] = (df_settlement['bid_price'] + df_settlement['ask_price']) / 2\n",
        "df_settlement['delta_t'] = df_settlement['exchange_time']\\\n",
        "                            .diff()\\\n",
        "                            .astype('timedelta64[ns]')\\\n",
        "                            .dt.total_seconds().\\\n",
        "                            fillna(0)\n",
        "df_settlement['delta_t'] = np.where(df_settlement['delta_t'] >= 1,\n",
        "                                    1,\n",
        "                                    df_settlement['delta_t'])\n",
        "\n",
        "a = np.array(df_settlement['avg_price'])\n",
        "d = np.array(df_settlement['delta_t'])\n",
        "\n",
        "@jit(nopython=True)\n",
        "def ema(a, d):\n",
        "    res = np.empty(len(d))\n",
        "    res[0] = a[0]\n",
        "    for i in range(1, len(res)):\n",
        "        res[i] = res[i-1] + (a[i] - res[i-1]) * d[i] / 10000\n",
        "    return res\n",
        "\n",
        "df_settlement['ema'] = ema(a, d)"
      ],
      "metadata": {
        "id": "9zBiacHOML9x"
      },
      "execution_count": null,
      "outputs": []
    },
    {
      "cell_type": "code",
      "source": [
        "df_settlement.head()"
      ],
      "metadata": {
        "id": "e9ivhSWhMQN7"
      },
      "execution_count": null,
      "outputs": []
    },
    {
      "cell_type": "markdown",
      "source": [
        "### 5) Ввести столбец position, инициализировать нулями"
      ],
      "metadata": {
        "id": "HeZ5EgHxMSNA"
      }
    },
    {
      "cell_type": "code",
      "source": [
        "df_settlement['position'] = 0"
      ],
      "metadata": {
        "id": "1JooNz7rMS-0"
      },
      "execution_count": null,
      "outputs": []
    },
    {
      "cell_type": "markdown",
      "source": [
        "### 6) Рассчитать значения в этом столбце по следующей логике:\n",
        "##### a) первые 10000 секунд - 0\n",
        "##### b) далее, если средняя цена в очередной строке больше EMA более чем на 50 и значение в предыдущей строке pos меньше 10 -> +1\n",
        "##### c) Если текущая средняя цена < EMA более чем на 50 и предыдущее значение pos > -10 -> -1\n",
        "##### d) Иначе значение не меняется\n",
        "### Постараться уложиться в 20 секунд."
      ],
      "metadata": {
        "id": "m8sv1pDtMXDB"
      }
    },
    {
      "cell_type": "code",
      "source": [
        "%%timeit\n",
        "a = np.array(df_settlement['avg_price'])\n",
        "d = np.array(\n",
        "    (df_settlement['exchange_time'] - df_settlement['exchange_time'].iloc[0])\\\n",
        "    .dt.total_seconds()\\\n",
        "    .astype('int'))\n",
        "e = np.array(df_settlement['ema'])\n",
        "p = np.array(df_settlement['position'])\n",
        "\n",
        "\n",
        "@jit(nopython=True)\n",
        "def pos(a, d, e, p):\n",
        "    position = np.empty(len(p))\n",
        "    position[0] = p[0]\n",
        "    for i in range(1, len(position)):\n",
        "        if d[i] <= 10000:\n",
        "            position[i] = 0\n",
        "        else:\n",
        "            if (a[i] > (e[i] + 50)) and (position[i-1] < 10):\n",
        "                position[i] = position[i-1] + 1\n",
        "            elif (a[i] < (e[i] - 50)) and (position[i-1] > -10):\n",
        "                position[i] = position[i-1] - 1\n",
        "            else:\n",
        "                position[i] = p[i]\n",
        "    return position\n",
        "\n",
        "\n",
        "df_settlement['position'] = pos(a, d, e, p)"
      ],
      "metadata": {
        "id": "OxmjFW-RMf2w"
      },
      "execution_count": null,
      "outputs": []
    },
    {
      "cell_type": "code",
      "source": [
        "df_settlement"
      ],
      "metadata": {
        "id": "CwLISAcTNFca"
      },
      "execution_count": null,
      "outputs": []
    },
    {
      "cell_type": "markdown",
      "source": [
        "### 7) Визуализировать результаты."
      ],
      "metadata": {
        "id": "mm7HZhQyNJgO"
      }
    },
    {
      "cell_type": "code",
      "source": [
        "plt.figure(figsize=(12, 6))\n",
        "df_settlement['ema'].plot()\n",
        "plt.show()"
      ],
      "metadata": {
        "id": "Dz5nnCaqNRIK"
      },
      "execution_count": null,
      "outputs": []
    },
    {
      "cell_type": "code",
      "source": [
        "plot = df_settlement.plot.scatter(x='avg_price', y='ema', c='position')\n",
        "plt.show()"
      ],
      "metadata": {
        "id": "ApWSodpDNKS0"
      },
      "execution_count": null,
      "outputs": []
    }
  ]
}